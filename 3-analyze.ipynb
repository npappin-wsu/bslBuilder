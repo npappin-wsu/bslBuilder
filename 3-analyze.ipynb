{
 "cells": [
  {
   "cell_type": "code",
   "execution_count": 3,
   "metadata": {},
   "outputs": [],
   "source": [
    "import os\n",
    "import pandas as pd\n",
    "from tqdm import tqdm"
   ]
  },
  {
   "cell_type": "code",
   "execution_count": 4,
   "metadata": {},
   "outputs": [
    {
     "name": "stderr",
     "output_type": "stream",
     "text": [
      "100%|██████████| 8/8 [00:15<00:00,  1.90s/it]\n"
     ]
    },
    {
     "name": "stdout",
     "output_type": "stream",
     "text": [
      "al\n",
      "Empty DataFrame\n",
      "Columns: [h3_res8_id, bsls]\n",
      "Index: []\n"
     ]
    },
    {
     "name": "stderr",
     "output_type": "stream",
     "text": [
      "100%|██████████| 7/7 [00:01<00:00,  6.07it/s]\n"
     ]
    },
    {
     "name": "stdout",
     "output_type": "stream",
     "text": [
      "ak\n",
      "Empty DataFrame\n",
      "Columns: [h3_res8_id, bsls]\n",
      "Index: []\n"
     ]
    },
    {
     "name": "stderr",
     "output_type": "stream",
     "text": [
      "100%|██████████| 7/7 [00:21<00:00,  3.02s/it]\n"
     ]
    },
    {
     "name": "stdout",
     "output_type": "stream",
     "text": [
      "az\n",
      "Empty DataFrame\n",
      "Columns: [h3_res8_id, bsls]\n",
      "Index: []\n"
     ]
    },
    {
     "name": "stderr",
     "output_type": "stream",
     "text": [
      "100%|██████████| 7/7 [00:10<00:00,  1.52s/it]\n"
     ]
    },
    {
     "name": "stdout",
     "output_type": "stream",
     "text": [
      "ar\n",
      "Empty DataFrame\n",
      "Columns: [h3_res8_id, bsls]\n",
      "Index: []\n"
     ]
    },
    {
     "name": "stderr",
     "output_type": "stream",
     "text": [
      "100%|██████████| 8/8 [01:53<00:00, 14.15s/it]\n"
     ]
    },
    {
     "name": "stdout",
     "output_type": "stream",
     "text": [
      "ca\n",
      "Empty DataFrame\n",
      "Columns: [h3_res8_id, bsls]\n",
      "Index: []\n"
     ]
    },
    {
     "name": "stderr",
     "output_type": "stream",
     "text": [
      "100%|██████████| 8/8 [00:15<00:00,  1.96s/it]\n"
     ]
    },
    {
     "name": "stdout",
     "output_type": "stream",
     "text": [
      "co\n",
      "Empty DataFrame\n",
      "Columns: [h3_res8_id, bsls]\n",
      "Index: []\n"
     ]
    },
    {
     "name": "stderr",
     "output_type": "stream",
     "text": [
      "100%|██████████| 7/7 [00:08<00:00,  1.15s/it]\n"
     ]
    },
    {
     "name": "stdout",
     "output_type": "stream",
     "text": [
      "ct\n",
      "Empty DataFrame\n",
      "Columns: [h3_res8_id, bsls]\n",
      "Index: []\n"
     ]
    },
    {
     "name": "stderr",
     "output_type": "stream",
     "text": [
      "100%|██████████| 7/7 [00:03<00:00,  2.25it/s]\n"
     ]
    },
    {
     "name": "stdout",
     "output_type": "stream",
     "text": [
      "de\n",
      "Empty DataFrame\n",
      "Columns: [h3_res8_id, bsls]\n",
      "Index: []\n"
     ]
    },
    {
     "name": "stderr",
     "output_type": "stream",
     "text": [
      "100%|██████████| 7/7 [00:01<00:00,  6.56it/s]\n"
     ]
    },
    {
     "name": "stdout",
     "output_type": "stream",
     "text": [
      "dc\n",
      "Empty DataFrame\n",
      "Columns: [h3_res8_id, bsls]\n",
      "Index: []\n"
     ]
    },
    {
     "name": "stderr",
     "output_type": "stream",
     "text": [
      "100%|██████████| 8/8 [00:57<00:00,  7.14s/it]\n"
     ]
    },
    {
     "name": "stdout",
     "output_type": "stream",
     "text": [
      "fl\n",
      "Empty DataFrame\n",
      "Columns: [h3_res8_id, bsls]\n",
      "Index: []\n"
     ]
    },
    {
     "name": "stderr",
     "output_type": "stream",
     "text": [
      "100%|██████████| 7/7 [00:28<00:00,  4.14s/it]\n"
     ]
    },
    {
     "name": "stdout",
     "output_type": "stream",
     "text": [
      "ga\n",
      "Empty DataFrame\n",
      "Columns: [h3_res8_id, bsls]\n",
      "Index: []\n"
     ]
    },
    {
     "name": "stderr",
     "output_type": "stream",
     "text": [
      "100%|██████████| 6/6 [00:02<00:00,  2.16it/s]\n"
     ]
    },
    {
     "name": "stdout",
     "output_type": "stream",
     "text": [
      "hi\n",
      "Empty DataFrame\n",
      "Columns: [h3_res8_id, bsls]\n",
      "Index: []\n"
     ]
    },
    {
     "name": "stderr",
     "output_type": "stream",
     "text": [
      "100%|██████████| 7/7 [00:11<00:00,  1.65s/it]\n"
     ]
    },
    {
     "name": "stdout",
     "output_type": "stream",
     "text": [
      "id\n",
      "Empty DataFrame\n",
      "Columns: [h3_res8_id, bsls]\n",
      "Index: []\n"
     ]
    },
    {
     "name": "stderr",
     "output_type": "stream",
     "text": [
      "100%|██████████| 8/8 [00:59<00:00,  7.41s/it]\n"
     ]
    },
    {
     "name": "stdout",
     "output_type": "stream",
     "text": [
      "il\n",
      "Empty DataFrame\n",
      "Columns: [h3_res8_id, bsls]\n",
      "Index: []\n"
     ]
    },
    {
     "name": "stderr",
     "output_type": "stream",
     "text": [
      "100%|██████████| 7/7 [00:32<00:00,  4.63s/it]\n"
     ]
    },
    {
     "name": "stdout",
     "output_type": "stream",
     "text": [
      "in\n",
      "Empty DataFrame\n",
      "Columns: [h3_res8_id, bsls]\n",
      "Index: []\n"
     ]
    },
    {
     "name": "stderr",
     "output_type": "stream",
     "text": [
      "100%|██████████| 7/7 [00:40<00:00,  5.81s/it]\n"
     ]
    },
    {
     "name": "stdout",
     "output_type": "stream",
     "text": [
      "ia\n",
      "Empty DataFrame\n",
      "Columns: [h3_res8_id, bsls]\n",
      "Index: []\n"
     ]
    },
    {
     "name": "stderr",
     "output_type": "stream",
     "text": [
      "100%|██████████| 7/7 [00:23<00:00,  3.36s/it]\n"
     ]
    },
    {
     "name": "stdout",
     "output_type": "stream",
     "text": [
      "ks\n",
      "Empty DataFrame\n",
      "Columns: [h3_res8_id, bsls]\n",
      "Index: []\n"
     ]
    },
    {
     "name": "stderr",
     "output_type": "stream",
     "text": [
      "100%|██████████| 7/7 [00:34<00:00,  4.87s/it]\n"
     ]
    },
    {
     "name": "stdout",
     "output_type": "stream",
     "text": [
      "ky\n",
      "Empty DataFrame\n",
      "Columns: [h3_res8_id, bsls]\n",
      "Index: []\n"
     ]
    },
    {
     "name": "stderr",
     "output_type": "stream",
     "text": [
      "100%|██████████| 7/7 [00:19<00:00,  2.72s/it]\n"
     ]
    },
    {
     "name": "stdout",
     "output_type": "stream",
     "text": [
      "la\n",
      "Empty DataFrame\n",
      "Columns: [h3_res8_id, bsls]\n",
      "Index: []\n"
     ]
    },
    {
     "name": "stderr",
     "output_type": "stream",
     "text": [
      "100%|██████████| 7/7 [00:10<00:00,  1.48s/it]\n"
     ]
    },
    {
     "name": "stdout",
     "output_type": "stream",
     "text": [
      "me\n",
      "Empty DataFrame\n",
      "Columns: [h3_res8_id, bsls]\n",
      "Index: []\n"
     ]
    },
    {
     "name": "stderr",
     "output_type": "stream",
     "text": [
      "100%|██████████| 7/7 [00:22<00:00,  3.24s/it]\n"
     ]
    },
    {
     "name": "stdout",
     "output_type": "stream",
     "text": [
      "md\n",
      "Empty DataFrame\n",
      "Columns: [h3_res8_id, bsls]\n",
      "Index: []\n"
     ]
    },
    {
     "name": "stderr",
     "output_type": "stream",
     "text": [
      "100%|██████████| 7/7 [00:22<00:00,  3.25s/it]\n"
     ]
    },
    {
     "name": "stdout",
     "output_type": "stream",
     "text": [
      "ma\n",
      "Empty DataFrame\n",
      "Columns: [h3_res8_id, bsls]\n",
      "Index: []\n"
     ]
    },
    {
     "name": "stderr",
     "output_type": "stream",
     "text": [
      "100%|██████████| 7/7 [01:33<00:00, 13.38s/it]\n"
     ]
    },
    {
     "name": "stdout",
     "output_type": "stream",
     "text": [
      "mi\n",
      "              h3_res8_id  bsls\n",
      "1611559  882ab269d7fffff    21\n"
     ]
    },
    {
     "name": "stderr",
     "output_type": "stream",
     "text": [
      "100%|██████████| 7/7 [01:42<00:00, 14.59s/it]\n"
     ]
    },
    {
     "name": "stdout",
     "output_type": "stream",
     "text": [
      "mn\n",
      "              h3_res8_id  bsls\n",
      "1611559  882ab269d7fffff    21\n"
     ]
    },
    {
     "name": "stderr",
     "output_type": "stream",
     "text": [
      "100%|██████████| 8/8 [00:27<00:00,  3.43s/it]\n"
     ]
    },
    {
     "name": "stdout",
     "output_type": "stream",
     "text": [
      "ms\n",
      "              h3_res8_id  bsls\n",
      "1611559  882ab269d7fffff    21\n"
     ]
    },
    {
     "name": "stderr",
     "output_type": "stream",
     "text": [
      "100%|██████████| 7/7 [01:17<00:00, 11.10s/it]\n"
     ]
    },
    {
     "name": "stdout",
     "output_type": "stream",
     "text": [
      "mo\n",
      "              h3_res8_id  bsls\n",
      "1611559  882ab269d7fffff    21\n"
     ]
    },
    {
     "name": "stderr",
     "output_type": "stream",
     "text": [
      "100%|██████████| 7/7 [00:13<00:00,  1.91s/it]\n"
     ]
    },
    {
     "name": "stdout",
     "output_type": "stream",
     "text": [
      "mt\n",
      "              h3_res8_id  bsls\n",
      "1611559  882ab269d7fffff    21\n"
     ]
    },
    {
     "name": "stderr",
     "output_type": "stream",
     "text": [
      "100%|██████████| 7/7 [00:36<00:00,  5.28s/it]\n"
     ]
    },
    {
     "name": "stdout",
     "output_type": "stream",
     "text": [
      "ne\n",
      "              h3_res8_id  bsls\n",
      "1611559  882ab269d7fffff    21\n"
     ]
    },
    {
     "name": "stderr",
     "output_type": "stream",
     "text": [
      "100%|██████████| 7/7 [00:22<00:00,  3.16s/it]\n"
     ]
    },
    {
     "name": "stdout",
     "output_type": "stream",
     "text": [
      "nv\n",
      "              h3_res8_id  bsls\n",
      "1611559  882ab269d7fffff    21\n"
     ]
    },
    {
     "name": "stderr",
     "output_type": "stream",
     "text": [
      "100%|██████████| 7/7 [00:15<00:00,  2.23s/it]\n"
     ]
    },
    {
     "name": "stdout",
     "output_type": "stream",
     "text": [
      "nh\n",
      "              h3_res8_id  bsls\n",
      "1611559  882ab269d7fffff    21\n"
     ]
    },
    {
     "name": "stderr",
     "output_type": "stream",
     "text": [
      "100%|██████████| 7/7 [01:29<00:00, 12.80s/it]\n"
     ]
    },
    {
     "name": "stdout",
     "output_type": "stream",
     "text": [
      "nj\n",
      "              h3_res8_id  bsls\n",
      "1611559  882ab269d7fffff    21\n"
     ]
    },
    {
     "name": "stderr",
     "output_type": "stream",
     "text": [
      "100%|██████████| 7/7 [00:25<00:00,  3.60s/it]\n"
     ]
    },
    {
     "name": "stdout",
     "output_type": "stream",
     "text": [
      "nm\n",
      "              h3_res8_id  bsls\n",
      "1611559  882ab269d7fffff    21\n"
     ]
    },
    {
     "name": "stderr",
     "output_type": "stream",
     "text": [
      "100%|██████████| 7/7 [01:35<00:00, 13.63s/it]\n"
     ]
    },
    {
     "name": "stdout",
     "output_type": "stream",
     "text": [
      "ny\n",
      "              h3_res8_id  bsls\n",
      "1611559  882ab269d7fffff    21\n"
     ]
    },
    {
     "name": "stderr",
     "output_type": "stream",
     "text": [
      "100%|██████████| 7/7 [01:06<00:00,  9.50s/it]\n"
     ]
    },
    {
     "name": "stdout",
     "output_type": "stream",
     "text": [
      "nc\n",
      "              h3_res8_id  bsls\n",
      "1611559  882ab269d7fffff    21\n"
     ]
    },
    {
     "name": "stderr",
     "output_type": "stream",
     "text": [
      "100%|██████████| 7/7 [00:05<00:00,  1.19it/s]\n"
     ]
    },
    {
     "name": "stdout",
     "output_type": "stream",
     "text": [
      "nd\n",
      "              h3_res8_id  bsls\n",
      "1611559  882ab269d7fffff    21\n"
     ]
    },
    {
     "name": "stderr",
     "output_type": "stream",
     "text": [
      "100%|██████████| 7/7 [01:12<00:00, 10.31s/it]\n"
     ]
    },
    {
     "name": "stdout",
     "output_type": "stream",
     "text": [
      "oh\n",
      "              h3_res8_id  bsls\n",
      "1611559  882ab269d7fffff    21\n",
      "2680685  882ab269d7fffff    21\n"
     ]
    },
    {
     "name": "stderr",
     "output_type": "stream",
     "text": [
      "100%|██████████| 8/8 [00:31<00:00,  3.90s/it]\n"
     ]
    },
    {
     "name": "stdout",
     "output_type": "stream",
     "text": [
      "ok\n",
      "              h3_res8_id  bsls\n",
      "1611559  882ab269d7fffff    21\n",
      "2680685  882ab269d7fffff    21\n"
     ]
    },
    {
     "name": "stderr",
     "output_type": "stream",
     "text": [
      "100%|██████████| 7/7 [00:31<00:00,  4.44s/it]\n"
     ]
    },
    {
     "name": "stdout",
     "output_type": "stream",
     "text": [
      "or\n",
      "              h3_res8_id  bsls\n",
      "1611559  882ab269d7fffff    21\n",
      "2680685  882ab269d7fffff    21\n"
     ]
    },
    {
     "name": "stderr",
     "output_type": "stream",
     "text": [
      "100%|██████████| 7/7 [03:23<00:00, 29.12s/it]\n"
     ]
    },
    {
     "name": "stdout",
     "output_type": "stream",
     "text": [
      "pa\n",
      "              h3_res8_id  bsls\n",
      "1611559  882ab269d7fffff    21\n",
      "2680685  882ab269d7fffff    21\n"
     ]
    },
    {
     "name": "stderr",
     "output_type": "stream",
     "text": [
      "100%|██████████| 6/6 [00:08<00:00,  1.35s/it]\n"
     ]
    },
    {
     "name": "stdout",
     "output_type": "stream",
     "text": [
      "ri\n",
      "              h3_res8_id  bsls\n",
      "1611559  882ab269d7fffff    21\n",
      "2680685  882ab269d7fffff    21\n"
     ]
    },
    {
     "name": "stderr",
     "output_type": "stream",
     "text": [
      "100%|██████████| 8/8 [00:50<00:00,  6.29s/it]\n"
     ]
    },
    {
     "name": "stdout",
     "output_type": "stream",
     "text": [
      "sc\n",
      "              h3_res8_id  bsls\n",
      "1611559  882ab269d7fffff    21\n",
      "2680685  882ab269d7fffff    21\n"
     ]
    },
    {
     "name": "stderr",
     "output_type": "stream",
     "text": [
      "100%|██████████| 8/8 [00:07<00:00,  1.05it/s]\n"
     ]
    },
    {
     "name": "stdout",
     "output_type": "stream",
     "text": [
      "sd\n",
      "              h3_res8_id  bsls\n",
      "1611559  882ab269d7fffff    21\n",
      "2680685  882ab269d7fffff    21\n"
     ]
    },
    {
     "name": "stderr",
     "output_type": "stream",
     "text": [
      "100%|██████████| 7/7 [00:50<00:00,  7.23s/it]\n"
     ]
    },
    {
     "name": "stdout",
     "output_type": "stream",
     "text": [
      "tn\n",
      "              h3_res8_id  bsls\n",
      "1611559  882ab269d7fffff    21\n",
      "2680685  882ab269d7fffff    21\n"
     ]
    },
    {
     "name": "stderr",
     "output_type": "stream",
     "text": [
      "100%|██████████| 8/8 [05:32<00:00, 41.60s/it]\n"
     ]
    },
    {
     "name": "stdout",
     "output_type": "stream",
     "text": [
      "tx\n",
      "              h3_res8_id  bsls\n",
      "1611559  882ab269d7fffff    21\n",
      "2680685  882ab269d7fffff    21\n"
     ]
    },
    {
     "name": "stderr",
     "output_type": "stream",
     "text": [
      "100%|██████████| 7/7 [00:25<00:00,  3.70s/it]\n"
     ]
    },
    {
     "name": "stdout",
     "output_type": "stream",
     "text": [
      "ut\n",
      "              h3_res8_id  bsls\n",
      "1611559  882ab269d7fffff    21\n",
      "2680685  882ab269d7fffff    21\n"
     ]
    },
    {
     "name": "stderr",
     "output_type": "stream",
     "text": [
      "100%|██████████| 7/7 [00:08<00:00,  1.21s/it]\n"
     ]
    },
    {
     "name": "stdout",
     "output_type": "stream",
     "text": [
      "vt\n",
      "              h3_res8_id  bsls\n",
      "1611559  882ab269d7fffff    21\n",
      "2680685  882ab269d7fffff    21\n"
     ]
    },
    {
     "name": "stderr",
     "output_type": "stream",
     "text": [
      "100%|██████████| 8/8 [00:49<00:00,  6.14s/it]\n"
     ]
    },
    {
     "name": "stdout",
     "output_type": "stream",
     "text": [
      "va\n",
      "              h3_res8_id  bsls\n",
      "1611559  882ab269d7fffff    21\n",
      "2680685  882ab269d7fffff    21\n"
     ]
    },
    {
     "name": "stderr",
     "output_type": "stream",
     "text": [
      "100%|██████████| 8/8 [00:58<00:00,  7.32s/it]\n"
     ]
    },
    {
     "name": "stdout",
     "output_type": "stream",
     "text": [
      "wa\n",
      "              h3_res8_id  bsls\n",
      "1611559  882ab269d7fffff    21\n",
      "2680685  882ab269d7fffff    21\n"
     ]
    },
    {
     "name": "stderr",
     "output_type": "stream",
     "text": [
      "100%|██████████| 8/8 [00:17<00:00,  2.22s/it]\n"
     ]
    },
    {
     "name": "stdout",
     "output_type": "stream",
     "text": [
      "wv\n",
      "              h3_res8_id  bsls\n",
      "1611559  882ab269d7fffff    21\n",
      "2680685  882ab269d7fffff    21\n"
     ]
    },
    {
     "name": "stderr",
     "output_type": "stream",
     "text": [
      "100%|██████████| 8/8 [00:43<00:00,  5.44s/it]\n"
     ]
    },
    {
     "name": "stdout",
     "output_type": "stream",
     "text": [
      "wi\n",
      "              h3_res8_id  bsls\n",
      "1611559  882ab269d7fffff    21\n",
      "2680685  882ab269d7fffff    21\n"
     ]
    },
    {
     "name": "stderr",
     "output_type": "stream",
     "text": [
      "100%|██████████| 7/7 [00:04<00:00,  1.54it/s]\n"
     ]
    },
    {
     "name": "stdout",
     "output_type": "stream",
     "text": [
      "wy\n",
      "              h3_res8_id  bsls\n",
      "1611559  882ab269d7fffff    21\n",
      "2680685  882ab269d7fffff    21\n"
     ]
    },
    {
     "name": "stderr",
     "output_type": "stream",
     "text": [
      "100%|██████████| 3/3 [00:00<00:00, 28.35it/s]\n"
     ]
    },
    {
     "name": "stdout",
     "output_type": "stream",
     "text": [
      "as\n",
      "              h3_res8_id  bsls\n",
      "1611559  882ab269d7fffff    21\n",
      "2680685  882ab269d7fffff    21\n"
     ]
    },
    {
     "name": "stderr",
     "output_type": "stream",
     "text": [
      "100%|██████████| 5/5 [00:00<00:00, 31.23it/s]\n"
     ]
    },
    {
     "name": "stdout",
     "output_type": "stream",
     "text": [
      "gu\n",
      "              h3_res8_id  bsls\n",
      "1611559  882ab269d7fffff    21\n",
      "2680685  882ab269d7fffff    21\n"
     ]
    },
    {
     "name": "stderr",
     "output_type": "stream",
     "text": [
      "100%|██████████| 3/3 [00:00<00:00, 43.72it/s]"
     ]
    },
    {
     "name": "stdout",
     "output_type": "stream",
     "text": [
      "mp\n"
     ]
    },
    {
     "name": "stderr",
     "output_type": "stream",
     "text": [
      "\n"
     ]
    },
    {
     "name": "stdout",
     "output_type": "stream",
     "text": [
      "              h3_res8_id  bsls\n",
      "1611559  882ab269d7fffff    21\n",
      "2680685  882ab269d7fffff    21\n"
     ]
    },
    {
     "name": "stderr",
     "output_type": "stream",
     "text": [
      "100%|██████████| 6/6 [00:19<00:00,  3.20s/it]\n"
     ]
    },
    {
     "name": "stdout",
     "output_type": "stream",
     "text": [
      "pr\n",
      "              h3_res8_id  bsls\n",
      "1611559  882ab269d7fffff    21\n",
      "2680685  882ab269d7fffff    21\n"
     ]
    },
    {
     "name": "stderr",
     "output_type": "stream",
     "text": [
      "100%|██████████| 3/3 [00:00<00:00, 14.29it/s]\n"
     ]
    },
    {
     "name": "stdout",
     "output_type": "stream",
     "text": [
      "vi\n",
      "              h3_res8_id  bsls\n",
      "1611559  882ab269d7fffff    21\n",
      "2680685  882ab269d7fffff    21\n"
     ]
    }
   ],
   "source": [
    "countryH3 = pd.DataFrame()\n",
    "countryBlock = pd.DataFrame()\n",
    "\n",
    "folderList = [x[0] for x in os.walk('data')][1:]\n",
    "\n",
    "for folder in folderList:\n",
    "    fileList = [os.path.join(dp, f) for dp, dn, fn in os.walk(os.path.expanduser(folder)) for f in fn]\n",
    "    fileList = [item for item in fileList if item.endswith(\".csv\")]\n",
    "    stateData = pd.DataFrame()\n",
    "    for file in tqdm(fileList):\n",
    "        df = pd.DataFrame()\n",
    "        df = pd.read_csv(f'{file}')\n",
    "        os.remove(file)\n",
    "        stateName = df.state_usps.unique()[0].lower()\n",
    "        columnsToDrop = ['frn',\n",
    "            'provider_id',\n",
    "            'brand_name',\n",
    "            'technology',\n",
    "            'max_advertised_download_speed',\n",
    "            'max_advertised_upload_speed',\n",
    "            'low_latency',\n",
    "            'business_residential_code',\n",
    "            'state_usps'\n",
    "        ]\n",
    "        df = df.drop(columns=columnsToDrop)\n",
    "        stateData = pd.concat([stateData, df], ignore_index=True)\n",
    "    print(stateName)\n",
    "    stateData.drop_duplicates(inplace=True)\n",
    "    stateData.reset_index(drop=True, inplace=True)\n",
    "    dfH3 = pd.DataFrame(stateData)\n",
    "    dfBlock = pd.DataFrame(stateData)\n",
    "    dfH3.drop(columns=['block_geoid'], inplace=True)\n",
    "    dfH3.drop_duplicates(inplace=True)\n",
    "    dfBlock.drop(columns=['h3_res8_id'], inplace=True)\n",
    "    dfBlock.drop_duplicates(inplace=True)\n",
    "    dfH3.drop(columns=['location_id'], inplace=True)\n",
    "    dfBlock.drop(columns=['location_id'], inplace=True)\n",
    "    dfH3 = dfH3.groupby('h3_res8_id').size().reset_index().rename(columns={0: 'bsls'})\n",
    "    dfBlock = dfBlock.groupby('block_geoid').size().reset_index().rename(columns={0: 'bsls'})\n",
    "    countryH3 = pd.concat([countryH3, dfH3], ignore_index=True)\n",
    "    countryBlock = pd.concat([countryBlock, dfBlock], ignore_index=True)\n",
    "    dfH3.to_csv(f'{stateName}H3Bsls.csv', index=False)\n",
    "    dfBlock.to_csv(f'{stateName}BlockBsls.csv', index=False)"
   ]
  },
  {
   "cell_type": "code",
   "execution_count": 24,
   "metadata": {},
   "outputs": [],
   "source": [
    "countryBlock = countryBlock.groupby('block_geoid').sum().reset_index()\n",
    "countryH3 = countryH3.groupby('h3_res8_id').sum().reset_index()\n"
   ]
  },
  {
   "cell_type": "code",
   "execution_count": 25,
   "metadata": {},
   "outputs": [],
   "source": [
    "countryBlock.to_csv('usBlockBsls.csv')\n",
    "countryH3.to_csv('usH3Bsls.csv')"
   ]
  }
 ],
 "metadata": {
  "kernelspec": {
   "display_name": "venv",
   "language": "python",
   "name": "python3"
  },
  "language_info": {
   "codemirror_mode": {
    "name": "ipython",
    "version": 3
   },
   "file_extension": ".py",
   "mimetype": "text/x-python",
   "name": "python",
   "nbconvert_exporter": "python",
   "pygments_lexer": "ipython3",
   "version": "3.10.10"
  },
  "orig_nbformat": 4,
  "vscode": {
   "interpreter": {
    "hash": "d0f36d994b0ae95bf2d0b5717ef7e3b8c0eb26c210900fe9297a3d0f3f6b6d66"
   }
  }
 },
 "nbformat": 4,
 "nbformat_minor": 2
}
