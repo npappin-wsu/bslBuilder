{
 "cells": [
  {
   "cell_type": "code",
   "execution_count": 21,
   "metadata": {},
   "outputs": [],
   "source": [
    "import os\n",
    "import pandas as pd\n",
    "from tqdm import tqdm"
   ]
  },
  {
   "cell_type": "code",
   "execution_count": 22,
   "metadata": {},
   "outputs": [
    {
     "name": "stderr",
     "output_type": "stream",
     "text": [
      "100%|██████████| 112/112 [00:07<00:00, 14.12it/s]\n"
     ]
    }
   ],
   "source": [
    "countryH3 = pd.DataFrame()\n",
    "countryBlock = pd.DataFrame()\n",
    "\n",
    "fileList = os.listdir()\n",
    "files = [f for f in os.listdir('states') if f.endswith('Bsls.csv')]\n",
    "\n",
    "for file in tqdm(files):\n",
    "    if file.endswith('H3Bsls.csv'):\n",
    "        df = pd.DataFrame()\n",
    "        df = pd.read_csv(f'states\\{file}')\n",
    "        countryH3 = pd.concat([countryH3, df], ignore_index=True)\n",
    "    else:\n",
    "        df = pd.DataFrame()\n",
    "        df = pd.read_csv(f'states\\{file}')\n",
    "        countryBlock = pd.concat([countryBlock, df], ignore_index=True)\n"
   ]
  },
  {
   "cell_type": "code",
   "execution_count": 23,
   "metadata": {},
   "outputs": [],
   "source": [
    "countryBlock = countryBlock.groupby('block_geoid').sum().reset_index()\n",
    "countryH3 = countryH3.groupby('h3_res8_id').sum().reset_index()"
   ]
  },
  {
   "cell_type": "code",
   "execution_count": 25,
   "metadata": {},
   "outputs": [
    {
     "name": "stdout",
     "output_type": "stream",
     "text": [
      "              h3_res8_id  bsls\n",
      "2318818  882a857561fffff   278\n"
     ]
    },
    {
     "data": {
      "text/plain": [
       "counts\n",
       "1    3979760\n",
       "dtype: int64"
      ]
     },
     "execution_count": 25,
     "metadata": {},
     "output_type": "execute_result"
    }
   ],
   "source": [
    "#@title Debug Items\n",
    "\n",
    "# countryH3[countryH3['h3_res8_id'] == '882ab269d7fffff']\n",
    "print(countryH3[countryH3['h3_res8_id'] == '882a857561fffff'])\n",
    "# test = countryH3.value_counts().reset_index().rename(columns={0:'counts'})\n",
    "# countryH3 = countryH3.groupby('h3_res8_id').sum().reset_index()\n",
    "# len(h3list)\n",
    "# h3FlatList = [item for sublist in h3list for item in sublist]\n",
    "test = pd.DataFrame(countryH3)\n",
    "# countryH3.reset_index(inplace=True, drop=True)\n",
    "# test = pd.DataFrame(countryH3['h3_res8_id'].value_counts())\n",
    "# pd.DataFrame(dfH3.h3_res8_id.value_counts())\n",
    "# test.h3_res8_id.sort_values(ascending=False)# test[test['counts']==2].sort_values('bsls', ascending=False)\n",
    "# test[test['h3_res8_id'] == '882ab269d7fffff']\n",
    "# test[test['h3_res8_id'] == '882a857561fffff']\n",
    "# test[test['h3_res8_id'] == '882a320a13fffff']\n",
    "test.value_counts('h3_res8_id').reset_index().rename(columns={0:'counts'}).value_counts('counts')\n",
    "# test.value_counts('h3_res8_id').reset_index().rename(columns={0:'counts'})\n",
    "\n",
    "# countryBlock = countryBlock.groupby('block_geoid').sum().reset_index()\n",
    "# testCountryH3 = countryH3.groupby('h3_res8_id').sum().reset_index()"
   ]
  },
  {
   "cell_type": "code",
   "execution_count": 26,
   "metadata": {},
   "outputs": [],
   "source": [
    "countryBlock.to_csv('usBlockBsls.csv', index=False)\n",
    "countryBlock.to_parquet('usBlockBsls.parquet', index=False)\n",
    "countryH3.to_csv('usH3Bsls.csv', index=False)\n",
    "countryH3.to_parquet('usH3Bsls.parquet', index=False)"
   ]
  },
  {
   "cell_type": "code",
   "execution_count": null,
   "metadata": {},
   "outputs": [],
   "source": []
  }
 ],
 "metadata": {
  "kernelspec": {
   "display_name": "venv",
   "language": "python",
   "name": "python3"
  },
  "language_info": {
   "codemirror_mode": {
    "name": "ipython",
    "version": 3
   },
   "file_extension": ".py",
   "mimetype": "text/x-python",
   "name": "python",
   "nbconvert_exporter": "python",
   "pygments_lexer": "ipython3",
   "version": "3.10.10"
  },
  "orig_nbformat": 4,
  "vscode": {
   "interpreter": {
    "hash": "d0f36d994b0ae95bf2d0b5717ef7e3b8c0eb26c210900fe9297a3d0f3f6b6d66"
   }
  }
 },
 "nbformat": 4,
 "nbformat_minor": 2
}
