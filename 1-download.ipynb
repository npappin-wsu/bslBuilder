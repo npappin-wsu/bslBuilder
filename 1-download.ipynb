{
 "cells": [
  {
   "cell_type": "code",
   "execution_count": 1,
   "metadata": {},
   "outputs": [],
   "source": [
    "import requests, json, os\n",
    "from tqdm import tqdm"
   ]
  },
  {
   "cell_type": "code",
   "execution_count": 2,
   "metadata": {},
   "outputs": [],
   "source": [
    "s = requests.Session()\n",
    "s.headers.update({'User-Agent': 'ArcGIS'})\n",
    "response = s.get(\"https://broadbandmap.fcc.gov/nbm/map/api/published/filing\")\n",
    "parsed = json.loads(response.text)\n",
    "uuid = parsed['data'][0]['process_uuid']\n",
    "url = f'https://broadbandmap.fcc.gov/nbm/map/api/national_map_process/nbm_get_data_download/{uuid}'\n",
    "response = s.get(url)\n",
    "parsed = json.loads(response.text)"
   ]
  },
  {
   "cell_type": "code",
   "execution_count": 3,
   "metadata": {},
   "outputs": [],
   "source": [
    "stateList = list(set([item['state_name'] for item in parsed['data']]))\n",
    "stateList.remove(None)\n",
    "stateList.sort()\n",
    "stateList = ['All'] + stateList\n",
    "\n",
    "# statesToProcess = ['California', 'Nevada', 'Washington', 'Idaho', 'Oregon', 'Pennsylvania']\n",
    "statesToProcess = 'All'"
   ]
  },
  {
   "cell_type": "code",
   "execution_count": 4,
   "metadata": {},
   "outputs": [],
   "source": [
    "dataToProcess = parsed['data']\n",
    "dataToProcess = [item for item in dataToProcess if item['state_name'] != None]\n",
    "\n",
    "if statesToProcess != 'All':\n",
    "    dataToProcess = [item for item in dataToProcess if item['state_name'] in statesToProcess]\n",
    "\n",
    "dataToProcess = [item for item in dataToProcess if item['file_type'] == 'csv']"
   ]
  },
  {
   "cell_type": "code",
   "execution_count": 5,
   "metadata": {},
   "outputs": [
    {
     "name": "stderr",
     "output_type": "stream",
     "text": [
      "100%|██████████| 389/389 [13:34<00:00,  2.09s/it]\n"
     ]
    }
   ],
   "source": [
    "if not os.path.isdir('data'):\n",
    "    os.makedirs('data')\n",
    "\n",
    "for item in tqdm(dataToProcess):\n",
    "    # print(item)\n",
    "    url = f\"https://broadbandmap.fcc.gov/nbm/map/api/getNBMDataDownloadFile/{item['id']}/1\"\n",
    "    state = item[\"file_name\"].split('_')[1]\n",
    "    r = s.get(url)\n",
    "    if not os.path.isdir(f'data\\{state}'):\n",
    "        os.makedirs(f'data\\{state}')\n",
    "    open(f'data\\\\{state}\\\\{item[\"file_name\"]}.zip', 'wb').write(r.content)"
   ]
  },
  {
   "cell_type": "code",
   "execution_count": null,
   "metadata": {},
   "outputs": [],
   "source": []
  }
 ],
 "metadata": {
  "kernelspec": {
   "display_name": "venv",
   "language": "python",
   "name": "python3"
  },
  "language_info": {
   "codemirror_mode": {
    "name": "ipython",
    "version": 3
   },
   "file_extension": ".py",
   "mimetype": "text/x-python",
   "name": "python",
   "nbconvert_exporter": "python",
   "pygments_lexer": "ipython3",
   "version": "3.10.10"
  },
  "orig_nbformat": 4,
  "vscode": {
   "interpreter": {
    "hash": "d0f36d994b0ae95bf2d0b5717ef7e3b8c0eb26c210900fe9297a3d0f3f6b6d66"
   }
  }
 },
 "nbformat": 4,
 "nbformat_minor": 2
}
