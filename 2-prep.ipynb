{
 "cells": [
  {
   "cell_type": "code",
   "execution_count": 2,
   "metadata": {},
   "outputs": [],
   "source": [
    "import os, shutil\n",
    "from pprint import pprint\n",
    "from tqdm import tqdm\n",
    "import pandas as pd"
   ]
  },
  {
   "cell_type": "code",
   "execution_count": 3,
   "metadata": {},
   "outputs": [
    {
     "name": "stderr",
     "output_type": "stream",
     "text": [
      "100%|██████████| 389/389 [07:47<00:00,  1.20s/it]\n"
     ]
    }
   ],
   "source": [
    "# fileList = os.walk('data')\n",
    "fileList = [os.path.join(dp, f) for dp, dn, fn in os.walk(os.path.expanduser(\"data\")) for f in fn]\n",
    "fileList = [item for item in fileList if item.endswith('.zip')]\n",
    "# print(fileList)\n",
    "for file in tqdm(fileList):\n",
    "    fileName = f'data/{file}'\n",
    "    state = file.split('\\\\')[1]\n",
    "    shutil.unpack_archive(file, f'data\\\\{state}')\n",
    "    os.remove(file)"
   ]
  },
  {
   "cell_type": "code",
   "execution_count": 4,
   "metadata": {},
   "outputs": [
    {
     "name": "stdout",
     "output_type": "stream",
     "text": [
      "test\n"
     ]
    }
   ],
   "source": [
    "# Fix Ohio\n",
    "\n",
    "!mv .\\data\\39\\bdc_39_Licensed-Fixed-Wireless_fixed_broadband_063022\\bdc_39_Licensed-Fixed-Wireless_fixed_broadband_063022.csv .\\data\\39\\\n",
    "!rm .\\data\\39\\bdc_39_Licensed-Fixed-Wireless_fixed_broadband_063022\\"
   ]
  },
  {
   "cell_type": "code",
   "execution_count": null,
   "metadata": {},
   "outputs": [],
   "source": []
  }
 ],
 "metadata": {
  "kernelspec": {
   "display_name": "venv",
   "language": "python",
   "name": "python3"
  },
  "language_info": {
   "codemirror_mode": {
    "name": "ipython",
    "version": 3
   },
   "file_extension": ".py",
   "mimetype": "text/x-python",
   "name": "python",
   "nbconvert_exporter": "python",
   "pygments_lexer": "ipython3",
   "version": "3.10.10"
  },
  "orig_nbformat": 4,
  "vscode": {
   "interpreter": {
    "hash": "d0f36d994b0ae95bf2d0b5717ef7e3b8c0eb26c210900fe9297a3d0f3f6b6d66"
   }
  }
 },
 "nbformat": 4,
 "nbformat_minor": 2
}
